{
 "cells": [
  {
   "cell_type": "markdown",
   "id": "09158480",
   "metadata": {},
   "source": [
    "\n",
    "# Introducción a la Búsqueda Aleatoria con Memoria\n",
    "\n",
    "En este proyecto, exploraremos un método simple llamado \"Búsqueda Aleatoria con Memoria.\" Esta técnica es una forma básica de resolver problemas, y aunque no es tan avanzada como el aprendizaje automático, nos ayuda a comprender el concepto de probar diferentes soluciones hasta encontrar una que funcione.\n",
    "\n",
    "### ¿Qué es la Búsqueda Aleatoria con Memoria?\n",
    "La búsqueda aleatoria con memoria implica probar acciones al azar y recordar los resultados. Si encontramos una buena solución, podemos guardarla e intentar mejorarla la próxima vez. Este método es como prueba y error, donde aprendemos de nuestros errores.\n",
    "\n",
    "### Nueva Función de Gym\n",
    "\n",
    "Para este proyecto, necesitarás usar una nueva función del entorno Gymnasium. Esta función se muestra a continuación y simplemente toma una acción al azar (en el caso de nuestro entorno, devolverá un número aleatorio entre 0 y 3 que representa las 4 direcciones en las que el agente puede moverse para alcanzar la meta)\n",
    "\n",
    "``` python\n",
    "action = env.action_space.sample()\n",
    "```\n",
    "\n",
    "### Implementación\n",
    "\n",
    "Para esta tarea, necesitarás crear una lista para almacenar el camino exitoso y una lista para almacenar el camino actual. En cada acción aleatoria, almacenarás la acción en la lista del camino actual. Si recibes una recompensa en algún momento, entonces sabrás que tienes un camino exitoso y podrás guardar ese camino como el camino exitoso.\n"
   ]
  },
  {
   "cell_type": "markdown",
   "id": "44db40b4",
   "metadata": {},
   "source": [
    "## Crea un algoritmo de búsqueda aleatoria para resolver Frozen Lake"
   ]
  },
  {
   "cell_type": "code",
   "execution_count": null,
   "id": "ea8697a9",
   "metadata": {},
   "outputs": [],
   "source": [
    "\n",
    "import gymnasium as gym\n",
    "import matplotlib.pyplot as plt\n",
    "import numpy as np\n",
    "\n",
    "#configurar el entorno del lago congelado\n",
    "env = gym.make('FrozenLake-v1', map_name=\"4x4\", is_slippery=False, render_mode=\"rgb_array\")\n",
    "\n",
    "episodes = 100 #número de episodios\n",
    "rewards_per_episode = np.zeros(episodes) #recompensas por episodio\n",
    "rgb_arrays = []\n",
    "\n",
    "# paso 1: crea una matriz vacía para almacenar el camino correcto\n",
    "\n",
    "for episode in range(episodes):\n",
    "    state, info = env.reset()\n",
    "    terminated = False\n",
    "    truncated = False\n",
    "\n",
    "    # paso 2: crea una matriz vacía para almacenar el camino actual\n",
    "\n",
    "    while(not terminated and not truncated):\n",
    "\n",
    "        if correct_path != []:\n",
    "            # paso 3: toma una acción aleatoria\n",
    "\n",
    "        else:\n",
    "            # paso 3: genera una acción aleatoria y asígnala a una variable de acción\n",
    "\n",
    "        # paso 4: añade la acción al camino actual con append()\n",
    "\n",
    "        state, reward, terminated, truncated, info = env.step(action)\n",
    "\n",
    "        rgb_arrays.append(env.render())\n",
    "\n",
    "    if(reward == 1):\n",
    "        # paso 5: establece el camino correcto = al camino actual\n",
    "\n",
    "        rewards_per_episode[episode] = 1\n",
    "\n",
    "env.close()\n",
    "\n",
    "sum_rewards = np.zeros(episodes)\n",
    "for t in range(episodes):\n",
    "    sum_rewards[t] = np.sum(rewards_per_episode[max(0, t-100):(t+1)])\n"
   ]
  },
  {
   "cell_type": "markdown",
   "id": "9c9149b4",
   "metadata": {},
   "source": [
    "### Graficar Recompensas por cada episodio\n",
    "\n",
    "Ejecuta el siguiente bloque de código para ver el gráfico"
   ]
  },
  {
   "cell_type": "code",
   "execution_count": null,
   "id": "8043115f",
   "metadata": {},
   "outputs": [],
   "source": [
    "\n",
    "plt.plot(sum_rewards)\n",
    "plt.savefig('frozen_lake8x8.png')\n"
   ]
  },
  {
   "cell_type": "markdown",
   "id": "6ebda988",
   "metadata": {},
   "source": [
    "### Mira un video del camino exitoso\n",
    "\n",
    "Ejecuta el siguiente bloque de código para ver el video"
   ]
  },
  {
   "cell_type": "code",
   "execution_count": null,
   "id": "e1190994",
   "metadata": {},
   "outputs": [],
   "source": [
    "\n",
    "import sys\n",
    "import os\n",
    "from IPython.display import HTML\n",
    "\n",
    "# Agrega el directorio principal a sys.path\n",
    "module_path = os.path.abspath(os.path.join('..'))\n",
    "if module_path not in sys.path:\n",
    "    sys.path.append(module_path)\n",
    "\n",
    "from utils.plotting import display_video\n",
    "\n",
    "video = display_video(rgb_arrays[-20:], interval=50)\n",
    "HTML(video.to_jshtml())\n"
   ]
  }
 ],
 "metadata": {},
 "nbformat": 4,
 "nbformat_minor": 5
}
